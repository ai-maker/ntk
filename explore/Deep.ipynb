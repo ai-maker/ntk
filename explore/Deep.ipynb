{
 "metadata": {
  "name": ""
 },
 "nbformat": 3,
 "nbformat_minor": 0,
 "worksheets": [
  {
   "cells": [
    {
     "cell_type": "markdown",
     "metadata": {},
     "source": [
      "# Deep Neural Network\n",
      "\n",
      "Deep [neural networks](Multilayer.ipynb) are those that feature a large number of hidden layers $L$. While there is no specific threshold over which a network is categorised as \"deep\", $L$ must be large enough to prevent the network from learning effectively with the traditional Backpropagation (BP) method and sigmoid activation functions.\n",
      "\n",
      "![Multilayer Perceptron topology](files/deep.png)"
     ]
    },
    {
     "cell_type": "code",
     "collapsed": false,
     "input": [
      "import NeuralNetwork\n",
      "import numpy as np\n",
      "\n",
      "# Load Iris dataset\n",
      "from sklearn import datasets as dset\n",
      "import copy\n",
      "\n",
      "iris = dset.load_iris()\n",
      "\n",
      "# build network with 4 input, 1 output\n",
      "nn = NeuralNetwork.MLP([4,4,4,4,1])\n",
      "\n",
      "# keep original for further experiments\n",
      "orig = copy.deepcopy(nn)\n",
      "\n",
      "# Target needs to be divided by 2 because of the sigmoid, values 0, 0.5, 1\n",
      "idat, itar = iris.data, iris.target/2.0\n",
      "\n",
      "# regularisation parameter of 0.1\n",
      "tcost = NeuralNetwork.MLP_Cost(nn, idat, itar, 0.1)\n",
      "\n",
      "# Cost value for an untrained network\n",
      "print(\"J(ini) = \" + str(tcost))\n",
      "\n",
      "# Train with numerical gradient, 50 rounds\n",
      "# learning rate is 0.01\n",
      "NeuralNetwork.MLP_Backprop(nn, idat, itar, 0.1, 50, 0.01)"
     ],
     "language": "python",
     "metadata": {},
     "outputs": [
      {
       "output_type": "stream",
       "stream": "stdout",
       "text": [
        "J(ini) = 0.220354978798\n",
        "J(0) = 0.206425150293"
       ]
      },
      {
       "output_type": "stream",
       "stream": "stdout",
       "text": [
        "\n",
        "J(1) = 0.195388468684"
       ]
      },
      {
       "output_type": "stream",
       "stream": "stdout",
       "text": [
        "\n",
        "J(2) = 0.187257843124"
       ]
      },
      {
       "output_type": "stream",
       "stream": "stdout",
       "text": [
        "\n",
        "J(3) = 0.181502897295"
       ]
      },
      {
       "output_type": "stream",
       "stream": "stdout",
       "text": [
        "\n",
        "J(4) = 0.177561058267"
       ]
      },
      {
       "output_type": "stream",
       "stream": "stdout",
       "text": [
        "\n",
        "J(5) = 0.174941417897"
       ]
      },
      {
       "output_type": "stream",
       "stream": "stdout",
       "text": [
        "\n",
        "J(6) = 0.173250305056"
       ]
      },
      {
       "output_type": "stream",
       "stream": "stdout",
       "text": [
        "\n",
        "J(7) = 0.172191863578"
       ]
      },
      {
       "output_type": "stream",
       "stream": "stdout",
       "text": [
        "\n",
        "J(8) = 0.171553809934"
       ]
      },
      {
       "output_type": "stream",
       "stream": "stdout",
       "text": [
        "\n",
        "J(9) = 0.1711887666"
       ]
      },
      {
       "output_type": "stream",
       "stream": "stdout",
       "text": [
        "\n",
        "J(10) = 0.17099687737"
       ]
      },
      {
       "output_type": "stream",
       "stream": "stdout",
       "text": [
        "\n",
        "J(11) = 0.170911771805"
       ]
      },
      {
       "output_type": "stream",
       "stream": "stdout",
       "text": [
        "\n",
        "J(12) = 0.170890067249"
       ]
      },
      {
       "output_type": "stream",
       "stream": "stdout",
       "text": [
        "\n",
        "J(13) = 0.170903866242"
       ]
      },
      {
       "output_type": "stream",
       "stream": "stdout",
       "text": [
        "\n",
        "J(14) = 0.170935547533"
       ]
      },
      {
       "output_type": "stream",
       "stream": "stdout",
       "text": [
        "\n",
        "J(15) = 0.17097421907"
       ]
      },
      {
       "output_type": "stream",
       "stream": "stdout",
       "text": [
        "\n",
        "J(16) = 0.171013336114"
       ]
      },
      {
       "output_type": "stream",
       "stream": "stdout",
       "text": [
        "\n",
        "J(17) = 0.171049119336"
       ]
      },
      {
       "output_type": "stream",
       "stream": "stdout",
       "text": [
        "\n",
        "J(18) = 0.171079514718"
       ]
      },
      {
       "output_type": "stream",
       "stream": "stdout",
       "text": [
        "\n",
        "J(19) = 0.17110351663"
       ]
      },
      {
       "output_type": "stream",
       "stream": "stdout",
       "text": [
        "\n",
        "J(20) = 0.171120730878"
       ]
      },
      {
       "output_type": "stream",
       "stream": "stdout",
       "text": [
        "\n",
        "J(21) = 0.171131089647"
       ]
      },
      {
       "output_type": "stream",
       "stream": "stdout",
       "text": [
        "\n",
        "J(22) = 0.171134647146"
       ]
      },
      {
       "output_type": "stream",
       "stream": "stdout",
       "text": [
        "\n",
        "J(23) = 0.171131382186"
       ]
      },
      {
       "output_type": "stream",
       "stream": "stdout",
       "text": [
        "\n",
        "J(24) = 0.171120904217"
       ]
      },
      {
       "output_type": "stream",
       "stream": "stdout",
       "text": [
        "\n",
        "J(25) = 0.171101878157"
       ]
      },
      {
       "output_type": "stream",
       "stream": "stdout",
       "text": [
        "\n",
        "J(26) = 0.171070838684"
       ]
      },
      {
       "output_type": "stream",
       "stream": "stdout",
       "text": [
        "\n",
        "J(27) = 0.171020500204"
       ]
      },
      {
       "output_type": "stream",
       "stream": "stdout",
       "text": [
        "\n",
        "J(28) = 0.170943761864"
       ]
      },
      {
       "output_type": "stream",
       "stream": "stdout",
       "text": [
        "\n",
        "J(29) = 0.170856598108"
       ]
      },
      {
       "output_type": "stream",
       "stream": "stdout",
       "text": [
        "\n",
        "J(30) = 0.170788252649"
       ]
      },
      {
       "output_type": "stream",
       "stream": "stdout",
       "text": [
        "\n",
        "J(31) = 0.170738338412"
       ]
      },
      {
       "output_type": "stream",
       "stream": "stdout",
       "text": [
        "\n",
        "J(32) = 0.170695869064"
       ]
      },
      {
       "output_type": "stream",
       "stream": "stdout",
       "text": [
        "\n",
        "J(33) = 0.170654775852"
       ]
      },
      {
       "output_type": "stream",
       "stream": "stdout",
       "text": [
        "\n",
        "J(34) = 0.170612690847"
       ]
      },
      {
       "output_type": "stream",
       "stream": "stdout",
       "text": [
        "\n",
        "J(35) = 0.17056876294"
       ]
      },
      {
       "output_type": "stream",
       "stream": "stdout",
       "text": [
        "\n",
        "J(36) = 0.170522669792"
       ]
      },
      {
       "output_type": "stream",
       "stream": "stdout",
       "text": [
        "\n",
        "J(37) = 0.170474242968"
       ]
      },
      {
       "output_type": "stream",
       "stream": "stdout",
       "text": [
        "\n",
        "J(38) = 0.170423333813"
       ]
      },
      {
       "output_type": "stream",
       "stream": "stdout",
       "text": [
        "\n",
        "J(39) = 0.170369769555"
       ]
      },
      {
       "output_type": "stream",
       "stream": "stdout",
       "text": [
        "\n",
        "J(40) = 0.170313342076"
       ]
      },
      {
       "output_type": "stream",
       "stream": "stdout",
       "text": [
        "\n",
        "J(41) = 0.170253807437"
       ]
      },
      {
       "output_type": "stream",
       "stream": "stdout",
       "text": [
        "\n",
        "J(42) = 0.170190888002"
       ]
      },
      {
       "output_type": "stream",
       "stream": "stdout",
       "text": [
        "\n",
        "J(43) = 0.170124274393"
       ]
      },
      {
       "output_type": "stream",
       "stream": "stdout",
       "text": [
        "\n",
        "J(44) = 0.170053626582"
       ]
      },
      {
       "output_type": "stream",
       "stream": "stdout",
       "text": [
        "\n",
        "J(45) = 0.16997857412"
       ]
      },
      {
       "output_type": "stream",
       "stream": "stdout",
       "text": [
        "\n",
        "J(46) = 0.169898715698"
       ]
      },
      {
       "output_type": "stream",
       "stream": "stdout",
       "text": [
        "\n",
        "J(47) = 0.169813618246"
       ]
      },
      {
       "output_type": "stream",
       "stream": "stdout",
       "text": [
        "\n",
        "J(48) = 0.169722815723"
       ]
      },
      {
       "output_type": "stream",
       "stream": "stdout",
       "text": [
        "\n",
        "J(49) = 0.169625807686"
       ]
      },
      {
       "output_type": "stream",
       "stream": "stdout",
       "text": [
        "\n",
        "Elapsed time = 4.8096139431 seconds\n"
       ]
      }
     ],
     "prompt_number": 74
    },
    {
     "cell_type": "markdown",
     "metadata": {},
     "source": [
      "## Vanishing gradient problem\n",
      "The reason for this loss of learning ability is the nature of BP with sigmoids. BP propagates the derivative of the error backwards in order to apply the gradient descent rule to all the weights. Note that the derivation of the error, which makes use of the chain rule, involves a product with the derivative of the sigmoid activation function $g'(z)$, e.g., for the logistic function:\n",
      "\n",
      "$g'(z) = g(z) (1- g(z))$\n",
      "\n",
      "However, this only yields significant values around zero:"
     ]
    },
    {
     "cell_type": "code",
     "collapsed": false,
     "input": [
      "z = np.arange(-8, 8, 0.1)\n",
      "g = NeuralNetwork.Sigmoid(z)\n",
      "\n",
      "%matplotlib inline\n",
      "import matplotlib.pyplot as plt\n",
      "\n",
      "plt.figure()\n",
      "plt.plot(z, g*(1.0-g), 'b-', label=\"g'(z)\")\n",
      "plt.legend(loc='upper left')\n",
      "plt.xlabel('Input [z]')\n",
      "plt.ylabel(\"Output [g']\")\n",
      "plt.title('Derivative of the logistic sigmoid activation function')\n",
      "plt.show()"
     ],
     "language": "python",
     "metadata": {},
     "outputs": [
      {
       "metadata": {},
       "output_type": "display_data",
       "png": "[encoded data removed]",
       "text": [
        "<matplotlib.figure.Figure at 0xaff6bcac>"
       ]
      }
     ],
     "prompt_number": 69
    },
    {
     "cell_type": "markdown",
     "metadata": {},
     "source": [
      "Therefore, after the error feedback has traversed several layers, the amount of knowledge tends to vanish by the time it reaches the initial layers (the farthest from the output).\n",
      "\n",
      "## Rectified Linear Unit (ReLU)\n",
      "\n",
      "In order to solve this issue, a rectifier function is used as the activation function:\n",
      "\n",
      "$g(z) = \\begin{cases} 0 & z < 0 \\\\ z & z \\geq 0 \\end{cases} $\n",
      "\n",
      "the derivative of which is the step function:\n",
      "\n",
      "$g'(z) = \\begin{cases} 0 & z < 0 \\\\ 1 & z \\geq 0 \\end{cases} $\n",
      "\n",
      "Now, the error feedback is no longer squeezed around zero and it may reach all the hidden units back to the input layer. This is the original success with Deep Learning.\n",
      "\n",
      "\n",
      "### Exploding gradient\n",
      "\n",
      "There is a caveat with using ReLU, though. Given that this new activation function is no longer bounded, the values of the weights can get very large, causing the network to become unstable, and ultimately reaching saturation. In order to work aroud this issue it is advised to use very small weights, and also small learning rates."
     ]
    },
    {
     "cell_type": "code",
     "collapsed": false,
     "input": [
      "# restore initial network\n",
      "nn = copy.deepcopy(orig)\n",
      "\n",
      "# reduce weights\n",
      "for l in nn:\n",
      "    l*= 0.1\n",
      "\n",
      "# regularisation parameter of 0.1\n",
      "tcost = NeuralNetwork.MLP_Cost(nn, idat, itar, 0.1, af=NeuralNetwork.ReLU)\n",
      "\n",
      "# Cost value for an untrained network\n",
      "print(\"J(ini) = \" + str(tcost))\n",
      "\n",
      "# Train with numerical gradient, 50 rounds\n",
      "# learning rate is 0.1\n",
      "NeuralNetwork.MLP_Backprop(nn, idat, itar, 0.1, 50, 0.01, af=NeuralNetwork.ReLU)"
     ],
     "language": "python",
     "metadata": {},
     "outputs": [
      {
       "output_type": "stream",
       "stream": "stdout",
       "text": [
        "J(ini) = 0.416715388745\n",
        "J(0) = 0.416716342081"
       ]
      },
      {
       "output_type": "stream",
       "stream": "stdout",
       "text": [
        "\n",
        "J(1) = 0.416719127235"
       ]
      },
      {
       "output_type": "stream",
       "stream": "stdout",
       "text": [
        "\n",
        "J(2) = 0.416723477325"
       ]
      },
      {
       "output_type": "stream",
       "stream": "stdout",
       "text": [
        "\n",
        "J(3) = 0.416729435092"
       ]
      },
      {
       "output_type": "stream",
       "stream": "stdout",
       "text": [
        "\n",
        "J(4) = 0.416737059129\n",
        "J(5) = 0.416746429303"
       ]
      },
      {
       "output_type": "stream",
       "stream": "stdout",
       "text": [
        "\n",
        "J(6) = 0.329756894526"
       ]
      },
      {
       "output_type": "stream",
       "stream": "stdout",
       "text": [
        "\n",
        "J(7) = 0.173860205323"
       ]
      },
      {
       "output_type": "stream",
       "stream": "stdout",
       "text": [
        "\n",
        "J(8) = 0.197675056954"
       ]
      },
      {
       "output_type": "stream",
       "stream": "stdout",
       "text": [
        "\n",
        "J(9) = 0.203252593584"
       ]
      },
      {
       "output_type": "stream",
       "stream": "stdout",
       "text": [
        "\n",
        "J(10) = 0.204241619943"
       ]
      },
      {
       "output_type": "stream",
       "stream": "stdout",
       "text": [
        "\n",
        "J(11) = 0.204447245767"
       ]
      },
      {
       "output_type": "stream",
       "stream": "stdout",
       "text": [
        "\n",
        "J(12) = 0.204536512223"
       ]
      },
      {
       "output_type": "stream",
       "stream": "stdout",
       "text": [
        "\n",
        "J(13) = 0.204616094677"
       ]
      },
      {
       "output_type": "stream",
       "stream": "stdout",
       "text": [
        "\n",
        "J(14) = 0.204705945164"
       ]
      },
      {
       "output_type": "stream",
       "stream": "stdout",
       "text": [
        "\n",
        "J(15) = 0.204811733553"
       ]
      },
      {
       "output_type": "stream",
       "stream": "stdout",
       "text": [
        "\n",
        "J(16) = 0.204937458221"
       ]
      },
      {
       "output_type": "stream",
       "stream": "stdout",
       "text": [
        "\n",
        "J(17) = 0.205087425653"
       ]
      },
      {
       "output_type": "stream",
       "stream": "stdout",
       "text": [
        "\n",
        "J(18) = 0.205267817734"
       ]
      },
      {
       "output_type": "stream",
       "stream": "stdout",
       "text": [
        "\n",
        "J(19) = 0.205488200329"
       ]
      },
      {
       "output_type": "stream",
       "stream": "stdout",
       "text": [
        "\n",
        "J(20) = 0.205760504442"
       ]
      },
      {
       "output_type": "stream",
       "stream": "stdout",
       "text": [
        "\n",
        "J(21) = 0.206106801592"
       ]
      },
      {
       "output_type": "stream",
       "stream": "stdout",
       "text": [
        "\n",
        "J(22) = 0.206556879897"
       ]
      },
      {
       "output_type": "stream",
       "stream": "stdout",
       "text": [
        "\n",
        "J(23) = 0.207180371918"
       ]
      },
      {
       "output_type": "stream",
       "stream": "stdout",
       "text": [
        "\n",
        "J(24) = 0.208076287329"
       ]
      },
      {
       "output_type": "stream",
       "stream": "stdout",
       "text": [
        "\n",
        "J(25) = 0.209406748338"
       ]
      },
      {
       "output_type": "stream",
       "stream": "stdout",
       "text": [
        "\n",
        "J(26) = 0.211387195601"
       ]
      },
      {
       "output_type": "stream",
       "stream": "stdout",
       "text": [
        "\n",
        "J(27) = 0.213743675784"
       ]
      },
      {
       "output_type": "stream",
       "stream": "stdout",
       "text": [
        "\n",
        "J(28) = 0.214245797433"
       ]
      },
      {
       "output_type": "stream",
       "stream": "stdout",
       "text": [
        "\n",
        "J(29) = 0.20735010466"
       ]
      },
      {
       "output_type": "stream",
       "stream": "stdout",
       "text": [
        "\n",
        "J(30) = 0.188336848064"
       ]
      },
      {
       "output_type": "stream",
       "stream": "stdout",
       "text": [
        "\n",
        "J(31) = 0.159417488919"
       ]
      },
      {
       "output_type": "stream",
       "stream": "stdout",
       "text": [
        "\n",
        "J(32) = 0.126684843506"
       ]
      },
      {
       "output_type": "stream",
       "stream": "stdout",
       "text": [
        "\n",
        "J(33) = 0.0956174114379\n",
        "J(34) = 0.0700414445201"
       ]
      },
      {
       "output_type": "stream",
       "stream": "stdout",
       "text": [
        "\n",
        "J(35) = 0.0521282843627"
       ]
      },
      {
       "output_type": "stream",
       "stream": "stdout",
       "text": [
        "\n",
        "J(36) = 0.0413226348345"
       ]
      },
      {
       "output_type": "stream",
       "stream": "stdout",
       "text": [
        "\n",
        "J(37) = 0.0354837155786"
       ]
      },
      {
       "output_type": "stream",
       "stream": "stdout",
       "text": [
        "\n",
        "J(38) = 0.0324500971738"
       ]
      },
      {
       "output_type": "stream",
       "stream": "stdout",
       "text": [
        "\n",
        "J(39) = 0.0308437587076"
       ]
      },
      {
       "output_type": "stream",
       "stream": "stdout",
       "text": [
        "\n",
        "J(40) = 0.0299168764484"
       ]
      },
      {
       "output_type": "stream",
       "stream": "stdout",
       "text": [
        "\n",
        "J(41) = 0.0293216579968"
       ]
      },
      {
       "output_type": "stream",
       "stream": "stdout",
       "text": [
        "\n",
        "J(42) = 0.0288987425344"
       ]
      },
      {
       "output_type": "stream",
       "stream": "stdout",
       "text": [
        "\n",
        "J(43) = 0.0285797533878"
       ]
      },
      {
       "output_type": "stream",
       "stream": "stdout",
       "text": [
        "\n",
        "J(44) = 0.0283196754307"
       ]
      },
      {
       "output_type": "stream",
       "stream": "stdout",
       "text": [
        "\n",
        "J(45) = 0.028092378317"
       ]
      },
      {
       "output_type": "stream",
       "stream": "stdout",
       "text": [
        "\n",
        "J(46) = 0.0278905830485"
       ]
      },
      {
       "output_type": "stream",
       "stream": "stdout",
       "text": [
        "\n",
        "J(47) = 0.0277087316878"
       ]
      },
      {
       "output_type": "stream",
       "stream": "stdout",
       "text": [
        "\n",
        "J(48) = 0.027545721627"
       ]
      },
      {
       "output_type": "stream",
       "stream": "stdout",
       "text": [
        "\n",
        "J(49) = 0.0273946962534"
       ]
      },
      {
       "output_type": "stream",
       "stream": "stdout",
       "text": [
        "\n",
        "Elapsed time = 3.25872206688 seconds\n"
       ]
      }
     ],
     "prompt_number": 73
    }
   ],
   "metadata": {}
  }
 ]
}