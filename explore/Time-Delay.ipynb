{
 "metadata": {
  "name": "",
  "signature": "sha256:b317773a5a38099285692edbc7854cdb266038cee76c3cf760a5a844999f1422"
 },
 "nbformat": 3,
 "nbformat_minor": 0,
 "worksheets": [
  {
   "cells": [
    {
     "cell_type": "markdown",
     "metadata": {},
     "source": [
      "# Time-Delay Neural Network\n",
      "\n",
      "The Time-Delay Neural Network (TDNN) is a model that is able to perform sequence recognition. It maps the buffered sequence into a spatial pattern on the input layer of a [Multilayer Perceptron](Multilayer.ipynb). Despite the natural association of a sequence with time, any other dynamic variable can be used, such as the DNA, a grammatical structure, etc.\n",
      "\n",
      "![Time-Delay Neural Network topology](files/timedelay.png)\n",
      "\n",
      "There are two main drawbacks to this general approach to sequence recognition:\n",
      "- "
     ]
    },
    {
     "cell_type": "code",
     "collapsed": false,
     "input": [],
     "language": "python",
     "metadata": {},
     "outputs": []
    }
   ],
   "metadata": {}
  }
 ]
}