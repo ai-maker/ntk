{
 "metadata": {
  "name": ""
 },
 "nbformat": 3,
 "nbformat_minor": 0,
 "worksheets": [
  {
   "cells": [
    {
     "cell_type": "markdown",
     "metadata": {},
     "source": [
      "# Multilayer Perceptron\n",
      "\n",
      "Some say that 9 out of 10 people who use neural networks apply a Multilayer Perceptron (MLP). A MLP is basically a feed-forward network with 3 layers (at least): an input layer, an output layer, and a hidden layer in between. Thus, the MLP has no structural loops: information always flows from left (input)to right (output). The lack of inherent feedback saves a lot of headaches. Its analysis is totally straightforward given that the output of the network is always a function of the input, it does not depend on any former state of the model or previous input.\n",
      "\n",
      "![Multilayer Perceptron topology](files/multilayer.png)\n",
      "\n",
      "Regarding the topology of a MLP it is normally assumed to be a densely-meshed one-to-many link model between the layers. This is mathematically represented by two matrices of parameters named \u201cthe thetas\u201d. In any case, if a certain connection is of little relevance with respect to the observable training data, the network will automatically pay little attention to its contribution and assign it a low weight close to zero.\n",
      "\n",
      "## Prediction\n",
      "\n",
      "The evaluation of the output of a MLP, i.e., its prediction, given an input vector of data is a matter of matrix multiplication. To that end, the following variables are described for convenience:\n",
      "* $N$ is the dimension of the input layer.\n",
      "* $H$ is the dimension of the hidden layer.\n",
      "* $K$ is the dimension of the output layer.\n",
      "* $M$ is the dimension of the corpus (number of examples).\n",
      "\n",
      "Given the variables above, the parameters of the network, i.e., the thetas matrices, are defined as follows:\n",
      "* $\\theta^{(IN)} \\rightarrow H \\times (N+1)$\n",
      "* $\\theta^{(OUT)} \\rightarrow K \\times (H+1)$"
     ]
    },
    {
     "cell_type": "code",
     "collapsed": false,
     "input": [
      "import NeuralNetwork\n",
      "\n",
      "# 2 input neurons, 3 hidden neurons, 1 output neuron\n",
      "nn = NeuralNetwork.Multilayer([2,3,1])\n",
      "\n",
      "# nn[0] -> ThetaIN, nn[1] -> ThetaOUT\n",
      "print(nn)"
     ],
     "language": "python",
     "metadata": {},
     "outputs": [
      {
       "output_type": "stream",
       "stream": "stdout",
       "text": [
        "[array([[-0.18566156, -0.09286854, -0.41196816],\n",
        "       [-0.49217791,  0.05118246, -0.33341809],\n",
        "       [ 0.33289433,  0.86062129, -0.928243  ]]), array([[ 0.18964195, -0.69191486,  0.57177885, -0.7444947 ]])]\n"
       ]
      }
     ],
     "prompt_number": 11
    },
    {
     "cell_type": "markdown",
     "metadata": {},
     "source": [
      "What follows are the ordered steps that need to be followed in order to evaluate the network prediction.\n",
      "\n",
      "### Input Feature Expansion\n",
      "\n",
      "The first step to attain a successful operation of the neural network is to add a bias term to the input feature space (mapped to the input layer):\n",
      "\n",
      "$$a^{(IN)} = [1;\\ x]$$\n",
      "\n",
      "The feature expansion of the input space with the bias term increases the learning effectiveness of the model because it adds a degree of freedom to the adaptation process. Note that $a^{(IN)}$ directly represents the activation values of the input layer. Thus, the input layer is linear with the input vector $x$ (it is defined by a linear activation function).\n",
      "\n",
      "### Transit to the Hidden Layer\n",
      "\n",
      "Once the activations (outputs) of the input layer are determined, their values flow into the hidden layer through the weights defined in $\\theta^{(IN)}$:\n",
      "\n",
      "$$z^{(HID)} = \\theta^{(IN)}\\;a^{(IN)}$$\n",
      "\n",
      "Similarly, the dimensionality of the hidden layer is expanded with a bias term to increase its learning effectiveness:\n",
      "\n",
      "$$a^{(HID)} = [1;\\ g(z^{(HID)})]$$\n",
      "\n",
      "Here, a new function $g()$ is introduced. This is the generic activation function of a neuron, and generally it is non-linear. Its application yields the output values of the hidden layer $a^{(HID)}$ and provides the true learning power to the neural model.\n",
      "\n",
      "### Output\n",
      "\n",
      "Then, the activation values of the output layer, i.e., the network prediction, are calculated as follows:\n",
      "\n",
      "$$z^{(OUT)} = \\theta^{(OUT)}\\;a^{(HID)}$$\n",
      "\n",
      "and finally\n",
      "\n",
      "$$a^{(OUT)} = g(z^{(OUT)}) = y$$\n",
      "\n",
      "### Activation Function\n",
      "\n",
      "The activation function of the neuron is (usually) a non-linear function that provides the expressive power to the neural network. It is recommended this function to be smooth, differentiable and monotonically non-decreasing (for learning purposes). Typically, the logistic sigmoid function is used.\n",
      "\n",
      "$$g(z) = \\frac{1}{(1 + \\exp^{-z})}$$\n",
      "\n",
      "Note that the range of this function varies from 0 to 1. Therefore, the output values of the neurons will always be bounded by the upper and the lower limits of this range. This entails considering a scaling process if a broader range of predicted values is needed."
     ]
    },
    {
     "cell_type": "code",
     "collapsed": false,
     "input": [
      "import numpy as np\n",
      "\n",
      "# Random instance with 2 values\n",
      "x = np.array([1.0, 2.0])\n",
      "y = NeuralNetwork.Predict(nn, x)\n",
      "\n",
      "# intermediate results are available\n",
      "# y[0] -> input result, y[1] -> hidden result, y[2] -> output result\n",
      "print(y)"
     ],
     "language": "python",
     "metadata": {},
     "outputs": [
      {
       "output_type": "stream",
       "stream": "stdout",
       "text": [
        "[array([ 1.,  2.]), array([ 0.24927805,  0.24827536,  0.34007267]), array([ 0.47650209])]\n"
       ]
      }
     ],
     "prompt_number": 12
    },
    {
     "cell_type": "code",
     "collapsed": false,
     "input": [
      "z = np.arange(-8, 8, 0.1)\n",
      "g = NeuralNetwork.Sigmoid(z)\n",
      "\n",
      "%matplotlib inline\n",
      "import matplotlib.pyplot as plt\n",
      "\n",
      "plt.figure()\n",
      "plt.plot(z, g, 'b-', label='g(z)')\n",
      "plt.legend(loc='upper left')\n",
      "plt.xlabel('Input [z]')\n",
      "plt.ylabel('Output [g]')\n",
      "plt.title('Logistic sigmoid activation function')\n",
      "plt.show()"
     ],
     "language": "python",
     "metadata": {},
     "outputs": [
      {
       "metadata": {},
       "output_type": "display_data",
       "png": "[encoded data removed]",
       "text": [
        "<matplotlib.figure.Figure at 0x7f7a8b0d24d0>"
       ]
      }
     ],
     "prompt_number": 13
    },
    {
     "cell_type": "markdown",
     "metadata": {},
     "source": [
      "## Training\n",
      "\n",
      "Training a neural network essentially means fitting its parameters to a set of example data considering an objective function, aka cost function. This process is also known as supervised learning. It is usually implemented as an iterative procedure.\n",
      "\n",
      "### Cost Function\n",
      "\n",
      "The cost function somehow encodes the objective or goal that should be attained with the network. It is usually defined as a classification or a regression evaluation function. However, the actual form of the cost function is effectively the same, which is an error or fitting function. A cost function measures the discrepancy between the desired output for a pattern and the output produced by the network.\n",
      "\n",
      "The cost function $J$ quantifies the amount of squared error (or misfitting) that the network displays with respect to a set of data. Thus, in order to achieve a successfully working model, this cost function must be minimised with an adequate set of parameter values. To do so, several solutions are valid as long as this cost function be a convex function (i.e., a bowl-like shape). A well known example of such is the quadratic function, which trains the neural network considering a minimum squared error criterion over the whole dataset of training examples:\n",
      "\n",
      "$$J(\\theta, x) = \\frac{1}{M} \\sum_{m=1}^M \\sum_{k=1}^K \\left(Error_k^{(m)}\\right)^2 = \\frac{1}{M} \\sum_{m=1}^M \\sum_{k=1}^K \\left(t_k^{(m)}-y_k^{(m)}\\right)^2$$\n",
      "\n",
      "Note that the term $t$ in the cost function represents the target value of the network (i.e., the ideal/desired network output) for a given input data value $x$. Now that the cost function can be expressed, a convex optimisation procedure (e.g., a gradient-based method) must be conducted in order to minimise its value. Note that this is essentially a least-squares regression.\n",
      "\n",
      "### Regularisation\n",
      "\n",
      "The mean squared-error cost function described above does not incorporate any knowledge or constraint about the characteristics of the parameters being adjusted through the optimisation training strategy. This may develop into a generalisation problem because the space of solutions is large and some of these solutions may turn the model unstable with new unseen data. Therefore, there is the need to smooth the performance of the model over a wide range of input data.\n",
      "\n",
      "Neural networks usually generalise well as long as the weights are kept small. Thus, the Tikhonov regularisation function, aka ridge regression, is introduced as a means to control complexity of the model in favour of its increased general performance. This regularisation approach, which is used in conjunction with the aforementioned cost function, favours small weight values (it is a cost over large weight values):\n",
      "\n",
      "$$R(\\theta) = \\frac{\\lambda}{2 M} \\sum_{\\forall \\theta \\notin bias} \\theta^2$$\n",
      "\n",
      "There is a typical trade-off in Machine Learning, known as the bias-variance trade-off, which has a direct relationship with the complexity of the model, the nature of the data and the amount of available training data to adjust it. This ability of the model to learn more or less complex scenarios raises an issue with respect to its fitting: if the data is simple to explain, a complex model is said to overfit the data, causing its overall performance to drop (high variance model). Similarly, if complex data is tackled with a simple model, such model is said to underfit the data, also causing its overall performance to drop (high bias model). As it is usual in engineering, a compromise must be reached with an adequate \u03bb\\lambda\u03bb value.\n",
      "\n",
      "### Parameter Initialisation\n",
      "\n",
      "The initial weights of the thetas assigned by the training process are critical with respect to the success of the learning strategy. They determine the starting point of the optimisation procedure, and depending on their value, the adjusted parameter values may end up in different places if the cost function has multiple (local) minima.\n",
      "\n",
      "The parameter initialisation process is based on a uniform distribution between two small numbers that take into account the amount of input and output units of the adjacent layers:\n",
      "\n",
      "$$\\theta_{init} = U[-\\sigma, +\\sigma]\\ \\ where\\ \\ \\sigma = \\frac{\\sqrt{6}}{\\sqrt{in + out}}$$\n",
      "\n",
      "In order to ensure a proper learning procedure, the weights of the parameters need to be randomly assigned in order to prevent any symmetry in the topology of the network model (that would be likely to end in convergence problems).\n",
      "\n",
      "### Gradient Descent\n",
      "\n",
      "Given the convex shape of the cost function (which usually also includes the regularisation), the minimisation objective boils down to finding the extremum of this function using its derivative in the continuos space of the weights. To this end you may use the analytic form of the derivative of the cost function (a nightmare), a numerical finite difference, or automatic differentiation.\n",
      "\n",
      "Gradient descent is a first-order optimisation algorithm, complete but non-optimal. It first starts with some arbitrarily chosen parameters and computes the derivative of the cost function with respect to each of them $\\frac{\\partial J(\\theta,x)}{\\partial \\theta}$. The model parameters are then updated by moving them some distance (determined by the so called learning rate $\\eta$) from the former initial point in the direction of the steepest descent, i.e., along the negative of the gradient. If $\\eta$ is set too small, though, convergence is needlessly slow, whereas if it is too large, the update correction process may overshoot and even diverge.\n",
      "\n",
      "$$\\theta^{t+1} \\leftarrow \\theta^t - \\eta \\frac{\\partial^t J(\\theta,x)}{\\partial \\theta} $$\n",
      "\n",
      "These steps are iterated in a loop until some stopping criterion is met, e.g., a determined number of epochs (i.e., the processing of all patterns in the training example set) is reached, or when no significant improvement is observed.\n",
      "\n",
      "#### Stochastic versus Batch Learning\n",
      "\n",
      "One last remark should be made about the amount of examples $M$ used in the cost function for learning. If the training procedure considers several instances at once per cost gradient computation and parameter update, i.e., $M \\gg 1$, the approach is called batch learning. Batch learning is usually slow because each cost computation accounts for all the available training instances, and especially if the data redundancy is high (similar patterns). However, the conditions of convergence are well understood.\n",
      "\n",
      "Alternatively, it is usual to consider only one single training instance at a time, i.e., $M=1$, to estimate the gradient in order to speed up the iterative learning process. This procedure is called stochastic (online) learning. Online learning steps are faster to compute, but this noisy single-instance approximation of the cost gradient function makes it a little inaccurate around the optimum. However, stochastic learning often results in better solutions because of the noise in the updates, and thus it is very convenient in most cases."
     ]
    },
    {
     "cell_type": "code",
     "collapsed": false,
     "input": [
      "# Load Iris dataset, 4 input, 1 output\n",
      "from sklearn import datasets as dset\n",
      "import copy\n",
      "\n",
      "iris = dset.load_iris()\n",
      "\n",
      "nn = NeuralNetwork.Multilayer([4,4,3])\n",
      "nn2 = copy.deepcopy(nn)\n",
      "# Target needs to be divided by 2 because of the sigmoid, values 0, 0.5, 1\n",
      "# regularisation parameter of 0.2\n",
      "tcost = NeuralNetwork.Cost(nn, iris.data, iris.target/2.0, 0.2)\n",
      "\n",
      "# Cost value for an untrained network\n",
      "print(\"J(ini) = \" + str(tcost))\n",
      "\n",
      "# Train with numerical gradient, 20 rounds, batch\n",
      "# learning rate is 0.1\n",
      "NeuralNetwork.NumGradDesc(nn, iris.data, iris.target/2.0, 0.2, 20, 0.1)"
     ],
     "language": "python",
     "metadata": {},
     "outputs": [
      {
       "output_type": "stream",
       "stream": "stdout",
       "text": [
        "J(ini) = 0.496917264943\n",
        "J(0) = 0.494387091796"
       ]
      },
      {
       "output_type": "stream",
       "stream": "stdout",
       "text": [
        "\n",
        "J(1) = 0.492043953861"
       ]
      },
      {
       "output_type": "stream",
       "stream": "stdout",
       "text": [
        "\n",
        "J(2) = 0.489932460859"
       ]
      },
      {
       "output_type": "stream",
       "stream": "stdout",
       "text": [
        "\n",
        "J(3) = 0.488073170792"
       ]
      },
      {
       "output_type": "stream",
       "stream": "stdout",
       "text": [
        "\n",
        "J(4) = 0.486460184441"
       ]
      },
      {
       "output_type": "stream",
       "stream": "stdout",
       "text": [
        "\n",
        "J(5) = 0.485066971621"
       ]
      },
      {
       "output_type": "stream",
       "stream": "stdout",
       "text": [
        "\n",
        "J(6) = 0.483856335058"
       ]
      },
      {
       "output_type": "stream",
       "stream": "stdout",
       "text": [
        "\n",
        "J(7) = 0.482789675776"
       ]
      },
      {
       "output_type": "stream",
       "stream": "stdout",
       "text": [
        "\n",
        "J(8) = 0.481832899012"
       ]
      },
      {
       "output_type": "stream",
       "stream": "stdout",
       "text": [
        "\n",
        "J(9) = 0.48095881979"
       ]
      },
      {
       "output_type": "stream",
       "stream": "stdout",
       "text": [
        "\n",
        "J(10) = 0.480147199664"
       ]
      },
      {
       "output_type": "stream",
       "stream": "stdout",
       "text": [
        "\n",
        "J(11) = 0.479383644709"
       ]
      },
      {
       "output_type": "stream",
       "stream": "stdout",
       "text": [
        "\n",
        "J(12) = 0.478658199843"
       ]
      },
      {
       "output_type": "stream",
       "stream": "stdout",
       "text": [
        "\n",
        "J(13) = 0.477964062169"
       ]
      },
      {
       "output_type": "stream",
       "stream": "stdout",
       "text": [
        "\n",
        "J(14) = 0.477296563707"
       ]
      },
      {
       "output_type": "stream",
       "stream": "stdout",
       "text": [
        "\n",
        "J(15) = 0.476652433926"
       ]
      },
      {
       "output_type": "stream",
       "stream": "stdout",
       "text": [
        "\n",
        "J(16) = 0.4760292964"
       ]
      },
      {
       "output_type": "stream",
       "stream": "stdout",
       "text": [
        "\n",
        "J(17) = 0.475425340972"
       ]
      },
      {
       "output_type": "stream",
       "stream": "stdout",
       "text": [
        "\n",
        "J(18) = 0.474839118501"
       ]
      },
      {
       "output_type": "stream",
       "stream": "stdout",
       "text": [
        "\n",
        "J(19) = 0.474269416777"
       ]
      },
      {
       "output_type": "stream",
       "stream": "stdout",
       "text": [
        "\n",
        "Elapsed time = 3.29799389839 seconds\n"
       ]
      }
     ],
     "prompt_number": 14
    },
    {
     "cell_type": "markdown",
     "metadata": {},
     "source": [
      "### Backpropagation\n",
      "\n",
      "The backpropagation algorithm estimates the error for each neuron unit so as to effectively deploy the gradient descent optimisation procedure. It is a popular algorithm, conceptually simple, computationally efficient, and it often works. In order to conduct the estimation of the neuron-wise errors, it first propagates the training data through the network,  then it computes the error with the predictions and the target values, and afterwards it backpropagates the error from the output to the input, generally speaking, from a given layer $(n)$ to the immediately former one $(n-1)$:\n",
      "\n",
      "$$Error^{(n-1)} = Error^{(n)} \\; \\theta^{(n)}$$\n",
      "\n",
      "Note that the bias neurons don't backpropagate, they are not connected to the former layer.\n",
      "\n",
      "Finally, the gradient is computed so that the weights may be updated. Each weight links an input unit $I$ to an output unit $O$, which also provides the error feedback. The general formula that is derived is shown as folows:\n",
      "\n",
      "$$\\theta^{(t+1)} \\leftarrow \\theta^{(t)} + \\eta \\; I \\; Error \\; O \\; (1 - O)$$\n",
      "\n",
      "From a computational complexity perspective, Backpropagation is much more effective than the numerical gradient applied above because it computes the errors for all the weights in 2 network traversals, whereas numerical gradient needs to compute 2 traversals per parameter. In addition, stochastic learning is generally the preferred method for Backprop."
     ]
    },
    {
     "cell_type": "code",
     "collapsed": false,
     "input": [
      "# Iris example with Backprop\n",
      "\n",
      "nn = NeuralNetwork.Multilayer([4,4,3])\n",
      "# Target needs to be divided by 2 because of the sigmoid, values 0, 0.5, 1\n",
      "# regularisation parameter of 0.2\n",
      "tcost = NeuralNetwork.Cost(nn, iris.data, iris.target/2.0, 0.2)\n",
      "\n",
      "# Cost value for an untrained network\n",
      "print(\"J(ini) = \" + str(tcost))\n",
      "\n",
      "# Train with numerical gradient, 20 rounds\n",
      "# learning rate is 0.1\n",
      "NeuralNetwork.Backprop(nn, iris.data, iris.target/2.0, 0.2, 20, 0.1)"
     ],
     "language": "python",
     "metadata": {},
     "outputs": [
      {
       "output_type": "stream",
       "stream": "stdout",
       "text": [
        "J(ini) = 0.63258190163\n",
        "J(0) = 0.50994832543\n",
        "J(1) = 0.416886928755"
       ]
      },
      {
       "output_type": "stream",
       "stream": "stdout",
       "text": [
        "\n",
        "J(2) = 0.289095857656"
       ]
      },
      {
       "output_type": "stream",
       "stream": "stdout",
       "text": [
        "\n",
        "J(3) = 0.216690168422\n",
        "J(4) = 0.186063390681"
       ]
      },
      {
       "output_type": "stream",
       "stream": "stdout",
       "text": [
        "\n",
        "J(5) = 0.173851324112\n",
        "J(6) = 0.168801614229"
       ]
      },
      {
       "output_type": "stream",
       "stream": "stdout",
       "text": [
        "\n",
        "J(7) = 0.17190098121\n",
        "J(8) = 0.171925241985"
       ]
      },
      {
       "output_type": "stream",
       "stream": "stdout",
       "text": [
        "\n",
        "J(9) = 0.171494762029\n",
        "J(10) = 0.171373732738"
       ]
      },
      {
       "output_type": "stream",
       "stream": "stdout",
       "text": [
        "\n",
        "J(11) = 0.171333845789\n",
        "J(12) = 0.171290869011"
       ]
      },
      {
       "output_type": "stream",
       "stream": "stdout",
       "text": [
        "\n",
        "J(13) = 0.171208558575\n",
        "J(14) = 0.171047767883"
       ]
      },
      {
       "output_type": "stream",
       "stream": "stdout",
       "text": [
        "\n",
        "J(15) = 0.170784371837\n",
        "J(16) = 0.17040750191"
       ]
      },
      {
       "output_type": "stream",
       "stream": "stdout",
       "text": [
        "\n",
        "J(17) = 0.169912701353\n",
        "J(18) = 0.169299300719"
       ]
      },
      {
       "output_type": "stream",
       "stream": "stdout",
       "text": [
        "\n",
        "J(19) = 0.16856882479\n",
        "Elapsed time = 0.889901161194 seconds\n"
       ]
      }
     ],
     "prompt_number": 15
    },
    {
     "cell_type": "markdown",
     "metadata": {},
     "source": [
      "### Practical Techniques\n",
      "\n",
      "Backpropagation learning can be tricky particularly for multilayered networks where the cost surface is non-quadratic, non-convex, and high dimensional with many local minima and/or flat regions. Its successful convergence is not guarateed. Designing and training a MLP using Backprop requires making choices such as the number and type of nodes, layers, learning rates, training and test sets, etc, and many undesirable behaviours can be avoided with practical techniques.\n",
      "\n",
      "#### Instance Shuffling\n",
      "\n",
      "In stochastic learning neural networks learn the most from the unexpected instances. Therefore, it is advisable to iterate over instances that are the most unfamiliar to the system (i.e., have the maximum information content). As a means to progress towards getting more chances for learning better, it is recommended to shuffle the training set so that successive training instances rarely belong to the same class."
     ]
    },
    {
     "cell_type": "code",
     "collapsed": false,
     "input": [
      "from sklearn.utils import shuffle\n",
      "\n",
      "idat, itar = iris.data, iris.target/2.0\n",
      "\n",
      "# both networks will start learning with the same weight set\n",
      "nn = NeuralNetwork.Multilayer([4,4,3])\n",
      "nn2 = copy.deepcopy(nn)\n",
      "orig = copy.deepcopy(nn)\n",
      "\n",
      "print(\"Network 1 (instances sequentially ordered by class)\")\n",
      "NeuralNetwork.Backprop(nn, idat, itar, 0.2, 20, 0.1)\n",
      "\n",
      "print(\"\")\n",
      "\n",
      "# shuffle instances\n",
      "idat, itar = shuffle(idat, itar)\n",
      "\n",
      "print(\"Network 2 (shuffled instances)\")\n",
      "NeuralNetwork.Backprop(nn2, idat, itar, 0.2, 20, 0.1)"
     ],
     "language": "python",
     "metadata": {},
     "outputs": [
      {
       "output_type": "stream",
       "stream": "stdout",
       "text": [
        "Network 1 (instances sequentially ordered by class)\n",
        "J(0) = 0.556440630237\n",
        "J(1) = 0.540886355078"
       ]
      },
      {
       "output_type": "stream",
       "stream": "stdout",
       "text": [
        "\n",
        "J(2) = 0.419108040759\n",
        "J(3) = 0.296288971073"
       ]
      },
      {
       "output_type": "stream",
       "stream": "stdout",
       "text": [
        "\n",
        "J(4) = 0.229685924413\n",
        "J(5) = 0.200479415369"
       ]
      },
      {
       "output_type": "stream",
       "stream": "stdout",
       "text": [
        "\n",
        "J(6) = 0.186972770778\n",
        "J(7) = 0.180602854097"
       ]
      },
      {
       "output_type": "stream",
       "stream": "stdout",
       "text": [
        "\n",
        "J(8) = 0.177604296681\n",
        "J(9) = 0.17620460692"
       ]
      },
      {
       "output_type": "stream",
       "stream": "stdout",
       "text": [
        "\n",
        "J(10) = 0.175702355958\n",
        "J(11) = 0.175765616542"
       ]
      },
      {
       "output_type": "stream",
       "stream": "stdout",
       "text": [
        "\n",
        "J(12) = 0.176207158741"
       ]
      },
      {
       "output_type": "stream",
       "stream": "stdout",
       "text": [
        "\n",
        "J(13) = 0.17694126592\n",
        "J(14) = 0.177951309689"
       ]
      },
      {
       "output_type": "stream",
       "stream": "stdout",
       "text": [
        "\n",
        "J(15) = 0.179213326755\n",
        "J(16) = 0.180624803366"
       ]
      },
      {
       "output_type": "stream",
       "stream": "stdout",
       "text": [
        "\n",
        "J(17) = 0.181889545578\n",
        "J(18) = 0.182377860419"
       ]
      },
      {
       "output_type": "stream",
       "stream": "stdout",
       "text": [
        "\n",
        "J(19) = 0.182198547103\n",
        "Elapsed time = 0.884121894836 seconds\n",
        "\n",
        "Network 2 (shuffled instances)\n",
        "J(0) = 0.386205718738"
       ]
      },
      {
       "output_type": "stream",
       "stream": "stdout",
       "text": [
        "\n",
        "J(1) = 0.271749000892\n",
        "J(2) = 0.189720376242"
       ]
      },
      {
       "output_type": "stream",
       "stream": "stdout",
       "text": [
        "\n",
        "J(3) = 0.144519449008\n",
        "J(4) = 0.116608335332"
       ]
      },
      {
       "output_type": "stream",
       "stream": "stdout",
       "text": [
        "\n",
        "J(5) = 0.0984376092719\n",
        "J(6) = 0.0861812083063"
       ]
      },
      {
       "output_type": "stream",
       "stream": "stdout",
       "text": [
        "\n",
        "J(7) = 0.0772470665554\n",
        "J(8) = 0.068801659121"
       ]
      },
      {
       "output_type": "stream",
       "stream": "stdout",
       "text": [
        "\n",
        "J(9) = 0.0627487503784\n",
        "J(10) = 0.0576783504015"
       ]
      },
      {
       "output_type": "stream",
       "stream": "stdout",
       "text": [
        "\n",
        "J(11) = 0.0534485647729\n",
        "J(12) = 0.0506342262215"
       ]
      },
      {
       "output_type": "stream",
       "stream": "stdout",
       "text": [
        "\n",
        "J(13) = 0.0503838485813\n",
        "J(14) = 0.0527904662059"
       ]
      },
      {
       "output_type": "stream",
       "stream": "stdout",
       "text": [
        "\n",
        "J(15) = 0.0560528041511\n",
        "J(16) = 0.0572290057928"
       ]
      },
      {
       "output_type": "stream",
       "stream": "stdout",
       "text": [
        "\n",
        "J(17) = 0.0572630418864\n",
        "J(18) = 0.051750173916"
       ]
      },
      {
       "output_type": "stream",
       "stream": "stdout",
       "text": [
        "\n",
        "J(19) = 0.0465665052344\n",
        "Elapsed time = 0.871438026428 seconds\n"
       ]
      }
     ],
     "prompt_number": 16
    },
    {
     "cell_type": "markdown",
     "metadata": {},
     "source": [
      "#### Feature Standardisation\n",
      "\n",
      "Convergence is usually faster if the average of each input feature over the training set is close to zero, otherwise the updates will be biased in a particular direction and thus will slow learning.\n",
      "\n",
      "Additionally, scaling the features so that all have about the same covariance speeds learning because it helps to balance out the rate at which the weights connected to the input nodes learn."
     ]
    },
    {
     "cell_type": "code",
     "collapsed": false,
     "input": [
      "# feature stats\n",
      "mu_idat = np.mean(idat, axis=0)\n",
      "std_idat = np.std(idat, axis=0)\n",
      "\n",
      "# standardise\n",
      "s_idat = (idat - mu_idat) / std_idat\n",
      "\n",
      "# eval\n",
      "test = copy.deepcopy(orig)\n",
      "NeuralNetwork.Backprop(test, s_idat, itar, 0.2, 20, 0.1)"
     ],
     "language": "python",
     "metadata": {},
     "outputs": [
      {
       "output_type": "stream",
       "stream": "stdout",
       "text": [
        "J(0) = 0.271251176618\n",
        "J(1) = 0.171077072643\n",
        "J(2) = 0.1273413727"
       ]
      },
      {
       "output_type": "stream",
       "stream": "stdout",
       "text": [
        "\n",
        "J(3) = 0.105133144357\n",
        "J(4) = 0.0911424969062"
       ]
      },
      {
       "output_type": "stream",
       "stream": "stdout",
       "text": [
        "\n",
        "J(5) = 0.0806975874873\n",
        "J(6) = 0.0721636436233"
       ]
      },
      {
       "output_type": "stream",
       "stream": "stdout",
       "text": [
        "\n",
        "J(7) = 0.0650599739431\n",
        "J(8) = 0.0592499122413"
       ]
      },
      {
       "output_type": "stream",
       "stream": "stdout",
       "text": [
        "\n",
        "J(9) = 0.0545929592297\n",
        "J(10) = 0.0508919468501"
       ]
      },
      {
       "output_type": "stream",
       "stream": "stdout",
       "text": [
        "\n",
        "J(11) = 0.0479406732886\n",
        "J(12) = 0.0455602463399"
       ]
      },
      {
       "output_type": "stream",
       "stream": "stdout",
       "text": [
        "\n",
        "J(13) = 0.0436098677948\n",
        "J(14) = 0.0419840485753"
       ]
      },
      {
       "output_type": "stream",
       "stream": "stdout",
       "text": [
        "\n",
        "J(15) = 0.0406054117886\n",
        "J(16) = 0.0394173623116"
       ]
      },
      {
       "output_type": "stream",
       "stream": "stdout",
       "text": [
        "\n",
        "J(17) = 0.0383781398546\n",
        "J(18) = 0.0374564807252"
       ]
      },
      {
       "output_type": "stream",
       "stream": "stdout",
       "text": [
        "\n",
        "J(19) = 0.0366286152156\n",
        "Elapsed time = 0.877718925476 seconds\n"
       ]
      }
     ],
     "prompt_number": 17
    },
    {
     "cell_type": "markdown",
     "metadata": {},
     "source": [
      "#### Feature Decorrelation\n",
      "\n",
      "If inputs are uncorrelated then it is possible to solve for the weight values independently. With correlated inputs, the solution must be searched simultaneously, which is a much harder problem. Principal Component Analysis (aka the Karhunen-Loeve expansion) can be used to remove linear correlations in inputs."
     ]
    },
    {
     "cell_type": "code",
     "collapsed": false,
     "input": [
      "# construct orthogonal basis with principal vectors\n",
      "covmat = np.cov(s_idat.T)\n",
      "l,v = np.linalg.eig(covmat)\n",
      "\n",
      "# reproject\n",
      "d_s_idat = s_idat.dot(v)\n",
      "\n",
      "# eval\n",
      "test = copy.deepcopy(orig)\n",
      "NeuralNetwork.Backprop(test, d_s_idat, itar, 0.2, 20, 0.1)"
     ],
     "language": "python",
     "metadata": {},
     "outputs": [
      {
       "output_type": "stream",
       "stream": "stdout",
       "text": [
        "J(0) = 0.260995474976\n",
        "J(1) = 0.15736976476\n",
        "J(2) = 0.114576207424"
       ]
      },
      {
       "output_type": "stream",
       "stream": "stdout",
       "text": [
        "\n",
        "J(3) = 0.0935017964941\n",
        "J(4) = 0.0806162728635"
       ]
      },
      {
       "output_type": "stream",
       "stream": "stdout",
       "text": [
        "\n",
        "J(5) = 0.0715829026856\n",
        "J(6) = 0.0648673632964"
       ]
      },
      {
       "output_type": "stream",
       "stream": "stdout",
       "text": [
        "\n",
        "J(7) = 0.0597742892489\n",
        "J(8) = 0.0558745548389"
       ]
      },
      {
       "output_type": "stream",
       "stream": "stdout",
       "text": [
        "\n",
        "J(9) = 0.0528576968446\n",
        "J(10) = 0.0504908340501"
       ]
      },
      {
       "output_type": "stream",
       "stream": "stdout",
       "text": [
        "\n",
        "J(11) = 0.0485984965503\n",
        "J(12) = 0.0470483503995"
       ]
      },
      {
       "output_type": "stream",
       "stream": "stdout",
       "text": [
        "\n",
        "J(13) = 0.0457412767972\n",
        "J(14) = 0.0446049946191"
       ]
      },
      {
       "output_type": "stream",
       "stream": "stdout",
       "text": [
        "\n",
        "J(15) = 0.0435898381866\n",
        "J(16) = 0.0426650185962"
       ]
      },
      {
       "output_type": "stream",
       "stream": "stdout",
       "text": [
        "\n",
        "J(17) = 0.041814096957\n",
        "J(18) = 0.0410296022518"
       ]
      },
      {
       "output_type": "stream",
       "stream": "stdout",
       "text": [
        "\n",
        "J(19) = 0.0403079422877\n",
        "Elapsed time = 0.865867137909 seconds\n"
       ]
      }
     ],
     "prompt_number": 18
    },
    {
     "cell_type": "markdown",
     "metadata": {},
     "source": [
      "#### Target Values\n",
      "\n",
      "Target values at the sigmoid asymptotes need to be driven by large weights, which can result in instabilities. Instead, target values at the point of the maximum second derivative of the sigmoid activation function avoid saturating the output units. The second derivative of the logistic sigmoid is $g''(z) = g(z)(1 - g(z))(1 - 2g(z))$, shown below."
     ]
    },
    {
     "cell_type": "code",
     "collapsed": false,
     "input": [
      "g = NeuralNetwork.Sigmoid\n",
      "ddg = g(z)*(1 - g(z))*(1 - 2*g(z))\n",
      "\n",
      "plt.figure()\n",
      "plt.plot(z, ddg, 'b-', label='g\\'\\'(z)')\n",
      "plt.legend(loc='upper left')\n",
      "plt.xlabel('Input [z]')\n",
      "plt.ylabel('Output [g\\'\\']')\n",
      "plt.title('Second derivative of the logistic sigmoid activation function')\n",
      "plt.show()\n",
      "\n",
      "# max min target values\n",
      "mx = max(ddg)\n",
      "mi = min(ddg)\n",
      "c = 0\n",
      "for i in ddg:\n",
      "    if i == mx:\n",
      "        print(\"Max target \" + str(z[c]) + \" -> \" + str(g(z[c])))\n",
      "    if i == mi:\n",
      "        print(\"Min target \" + str(z[c]) + \" -> \" + str(g(z[c])))\n",
      "    c += 1"
     ],
     "language": "python",
     "metadata": {},
     "outputs": [
      {
       "metadata": {},
       "output_type": "display_data",
       "png": "[encoded data removed]",
       "text": [
        "<matplotlib.figure.Figure at 0x7f7aac10c8d0>"
       ]
      },
      {
       "output_type": "stream",
       "stream": "stdout",
       "text": [
        "Max target -1.3 -> 0.214165016957\n",
        "Min target 1.3 -> 0.785834983043\n"
       ]
      }
     ],
     "prompt_number": 41
    },
    {
     "cell_type": "markdown",
     "metadata": {},
     "source": [
      "Therefore, optimum target values must be at 0.21 and 0.79."
     ]
    },
    {
     "cell_type": "code",
     "collapsed": false,
     "input": [
      "for i in xrange(len(itar)):\n",
      "    if itar[i] == 0:\n",
      "        itar[i] = 0.21\n",
      "    if itar[i] == 1:\n",
      "        itar[i] = 0.79\n",
      "test = copy.deepcopy(orig)\n",
      "NeuralNetwork.Backprop(test, d_s_idat, itar, 0.2, 20, 0.1)"
     ],
     "language": "python",
     "metadata": {},
     "outputs": [
      {
       "output_type": "stream",
       "stream": "stdout",
       "text": [
        "J(0) = 0.0913680027887\n",
        "J(1) = 0.0554423046304\n",
        "J(2) = 0.036270687287"
       ]
      },
      {
       "output_type": "stream",
       "stream": "stdout",
       "text": [
        "\n",
        "J(3) = 0.0265201644737\n",
        "J(4) = 0.0213480691384"
       ]
      },
      {
       "output_type": "stream",
       "stream": "stdout",
       "text": [
        "\n",
        "J(5) = 0.0183263437021\n",
        "J(6) = 0.0163627010487"
       ]
      },
      {
       "output_type": "stream",
       "stream": "stdout",
       "text": [
        "\n",
        "J(7) = 0.0149650531512\n",
        "J(8) = 0.0139029263004"
       ]
      },
      {
       "output_type": "stream",
       "stream": "stdout",
       "text": [
        "\n",
        "J(9) = 0.0130616650835\n",
        "J(10) = 0.012379252803"
       ]
      },
      {
       "output_type": "stream",
       "stream": "stdout",
       "text": [
        "\n",
        "J(11) = 0.01181842045\n",
        "J(12) = 0.0113541717249"
       ]
      },
      {
       "output_type": "stream",
       "stream": "stdout",
       "text": [
        "\n",
        "J(13) = 0.0109681574169\n",
        "J(14) = 0.0106460904578"
       ]
      },
      {
       "output_type": "stream",
       "stream": "stdout",
       "text": [
        "\n",
        "J(15) = 0.010376489188\n",
        "J(16) = 0.0101499925568"
       ]
      },
      {
       "output_type": "stream",
       "stream": "stdout",
       "text": [
        "\n",
        "J(17) = 0.00995892623412\n",
        "J(18) = 0.00979698898402"
       ]
      },
      {
       "output_type": "stream",
       "stream": "stdout",
       "text": [
        "\n",
        "J(19) = 0.00965900698175\n",
        "Elapsed time = 0.897998094559 seconds\n"
       ]
      }
     ],
     "prompt_number": 47
    },
    {
     "cell_type": "markdown",
     "metadata": {},
     "source": [
      "#### Recommended Sigmoid\n",
      "\n",
      "Nonlinear activation functions are what give neural networks their nonlinear capabilities. Symmetric sigmoids such as the hyperbolic tangent often converge faster than the standard logistic regression. A recommended sigmoid is: $f(x) = 1.7159 \\; \\tanh (\\frac{2}{3} x)$. The constants in the recommended sigmoid have been chosen so that, when used with standardised input features, the variance of the outputs will also be close to 1 because the effective gain of the sigmoid is roughly 1 over its useful range."
     ]
    },
    {
     "cell_type": "code",
     "collapsed": false,
     "input": [
      "g = NeuralNetwork.HyperTan(z)\n",
      "\n",
      "plt.figure()\n",
      "plt.plot(z, g, 'b-', label='g(z)')\n",
      "plt.legend(loc='upper left')\n",
      "plt.xlabel('Input [z]')\n",
      "plt.ylabel('Output [g]')\n",
      "plt.title('Recommended hyperbolic tangent sigmoid activation function')\n",
      "plt.show()"
     ],
     "language": "python",
     "metadata": {},
     "outputs": [
      {
       "metadata": {},
       "output_type": "display_data",
       "png": "[encoded data removed]",
       "text": [
        "<matplotlib.figure.Figure at 0x7f7a89302990>"
       ]
      }
     ],
     "prompt_number": 20
    },
    {
     "cell_type": "markdown",
     "metadata": {},
     "source": [
      "Notes:\n",
      "\n",
      "The success of Artificial Intelligence and Machine Learning applications is plausibly conceived as a matter of controlling several key variables and following a series of \u201cgood practices\u201d. There are some works in the literature that identify the bits and pieces to be taken into account when designing a successful model. Some of these are described as follows:\n",
      "\n",
      "    Focus on model generalisation: keep a separate self-validation set of data (not used to train the model) to test and estimate the actual performance of the model.\n",
      "    Incorporate as much knowledge as possible. Expertise is a key indicator of success. Data driven models don\u2019t do magic, the more information that is available, the greater the performance of the model.\n",
      "    Feature Engineering is of utmost importance. This relates to the former point: the more useful information that can be extracted from the input data, the better performance can be expected. Salient indicators are keys to success. This may lead to selecting only the most informative features (mutual information, chi-square\u2026), or to change the feature space that is used to represent the instance data (Principal Component Analysis\u2026). And always standardise your data and exclude outliers.\n",
      "    Get more data if the model is not good enough. Related to \u201cthe curse of dimensionality\u201d principle: if good data is lacking, no successful model can be obtained. There must be a coherent relation between the parameters of the model (i.e., its complexity) and the amount of available data to train them.\n",
      "    Ensemble models, integrate criteria. Bearing in mind that the optimum model structure is not known in advance, one of the most reasonable approaches to obtain a fairly good guess is to apply different models (with different learning features) to the same problem and combine/weight their outputs. Related techniques to this are also known as \u201cboosting\u201d.\n",
      "\n",
      "The following sections delve into some of these topics with some practical strategies.\n",
      "\n",
      "Target Values\n",
      "\n",
      "When designing a learning system, it is suitable to take into account the nature of the problem at hand (e.g., whether if it is a classification problem or a regression problem) to determine the number of output units KKK.\n",
      "\n",
      "In the case of classification, KKK should be the amount of different classes, and the target output should be a binary vector. Given an instance, only the output unit that corresponds to the instance class should be set. The decision rule for classification is then driven by the maximum output unit. \n",
      "\n",
      "In the case of a regression problem, KKK should be equal to the number of dependent variables. \n",
      "\n",
      "Hidden Units\n",
      "\n",
      "The number of hidden units determines the expressive power of the network, and thus, the complexity of its transfer function. The more complex a model is, the more complicated data structures it can learn. Nevertheless, this argument cannot be extended ad infinitum because a shortage of training data with respect to the amount of parameters to be learnt may lead the model to overfit the data. That\u2019s why the aforementioned regularisation function is used to avoid this situation.\n",
      "\n",
      "Thus, it is common to have a skew toward suggesting a slightly more complex model than strictly necessary (regularisation will compensate for the extra complexity if necessary). Some heuristic guidelines to guess this optimum number of hidden units indicate an amount somewhat related to the number of input and output units. This is an experimental issue, though. There is no rule of thumb for this. Apply a configuration that works for your problem and you\u2019re done.\n",
      "\n",
      "Deep learning -> many layers, vanishing gradient, need to train differently"
     ]
    }
   ],
   "metadata": {}
  }
 ]
}