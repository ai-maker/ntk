{
 "metadata": {
  "name": ""
 },
 "nbformat": 3,
 "nbformat_minor": 0,
 "worksheets": [
  {
   "cells": [
    {
     "cell_type": "markdown",
     "metadata": {},
     "source": [
      "# Multilayer Perceptron\n",
      "\n",
      "Some say that 9 out of 10 people who use neural networks apply a Multilayer Perceptron (MLP). A MLP is basically a feed-forward network with 3 layers (at least): an input layer, an output layer, and a hidden layer in between. Thus, the MLP has no structural loops: information always flows from left (input)to right (output). The lack of inherent feedback saves a lot of headaches. Its analysis is totally straightforward given that the output of the network is always a function of the input, it does not depend on any former state of the model or previous input.\n",
      "\n",
      "![Multilayer Perceptron topology](files/multilayer.png)\n",
      "\n",
      "Regarding the topology of a MLP it is normally assumed to be a densely-meshed one-to-many link model between the layers. This is mathematically represented by two matrices of parameters named \u201cthe thetas\u201d. In any case, if a certain connection is of little relevance with respect to the observable training data, the network will automatically pay little attention to its contribution and assign it a low weight close to zero.\n",
      "\n",
      "## Prediction\n",
      "\n",
      "The evaluation of the output of a MLP, i.e., its prediction, given an input vector of data is a matter of matrix multiplication. To that end, the following variables are described for convenience:\n",
      "* $N$ is the dimension of the input layer.\n",
      "* $H$ is the dimension of the hidden layer.\n",
      "* $K$ is the dimension of the output layer.\n",
      "* $M$ is the dimension of the corpus (number of examples).\n",
      "\n",
      "Given the variables above, the parameters of the network, i.e., the thetas matrices, are defined as follows:\n",
      "* $\\theta^{(IN)} \\rightarrow H \\times (N+1)$\n",
      "* $\\theta^{(OUT)} \\rightarrow K \\times (H+1)$"
     ]
    },
    {
     "cell_type": "code",
     "collapsed": false,
     "input": [
      "import NeuralNetwork\n",
      "\n",
      "# 2 input neurons, 3 hidden neurons, 1 output neuron\n",
      "nn = NeuralNetwork.Multilayer([2,3,1])\n",
      "\n",
      "# nn[0] -> ThetaIN, nn[1] -> ThetaOUT\n",
      "print(nn)"
     ],
     "language": "python",
     "metadata": {},
     "outputs": [
      {
       "output_type": "stream",
       "stream": "stdout",
       "text": [
        "[array([[-0.77879645,  0.35117581, -0.8748505 ],\n",
        "       [ 0.42304497, -0.94409569, -0.55999281],\n",
        "       [-0.54529225, -0.08765094,  0.33527394]]), array([[-0.01227896,  0.10041227,  0.82567863,  0.90636699]])]\n"
       ]
      }
     ],
     "prompt_number": 1
    },
    {
     "cell_type": "markdown",
     "metadata": {},
     "source": [
      "What follows are the ordered steps that need to be followed in order to evaluate the network prediction.\n",
      "\n",
      "### Input Feature Expansion\n",
      "\n",
      "The first step to attain a successful operation of the neural network is to add a bias term to the input feature space (mapped to the input layer):\n",
      "\n",
      "$$a^{(IN)} = [1;\\ x]$$\n",
      "\n",
      "The feature expansion of the input space with the bias term increases the learning effectiveness of the model because it adds a degree of freedom to the adaptation process. Note that $a^{(IN)}$ directly represents the activation values of the input layer. Thus, the input layer is linear with the input vector $x$ (it is defined by a linear activation function).\n",
      "\n",
      "### Transit to the Hidden Layer\n",
      "\n",
      "Once the activations (outputs) of the input layer are determined, their values flow into the hidden layer through the weights defined in $\\theta^{(IN)}$:\n",
      "\n",
      "$$z^{(HID)} = \\theta^{(IN)}\\;a^{(IN)}$$\n",
      "\n",
      "Similarly, the dimensionality of the hidden layer is expanded with a bias term to increase its learning effectiveness:\n",
      "\n",
      "$$a^{(HID)} = [1;\\ g(z^{(HID)})]$$\n",
      "\n",
      "Here, a new function $g()$ is introduced. This is the generic activation function of a neuron, and generally it is non-linear. Its application yields the output values of the hidden layer $a^{(HID)}$ and provides the true learning power to the neural model.\n",
      "\n",
      "### Output\n",
      "\n",
      "Then, the activation values of the output layer, i.e., the network prediction, are calculated as follows:\n",
      "\n",
      "$$z^{(OUT)} = \\theta^{(OUT)}\\;a^{(HID)}$$\n",
      "\n",
      "and finally\n",
      "\n",
      "$$a^{(OUT)} = g(z^{(OUT)}) = y$$\n",
      "\n",
      "### Activation Function\n",
      "\n",
      "The activation function of the neuron is (usually) a non-linear function that provides the expressive power to the neural network. It is recommended this function to be smooth, differentiable and monotonically non-decreasing (for learning purposes). Typically, the logistic sigmoid function is used.\n",
      "\n",
      "$$g(z) = \\frac{1}{(1 + \\exp^{-z})}$$\n",
      "\n",
      "Note that the range of this function varies from 0 to 1. Therefore, the output values of the neurons will always be bounded by the upper and the lower limits of this range. This entails considering a scaling process if a broader range of predicted values is needed."
     ]
    },
    {
     "cell_type": "code",
     "collapsed": false,
     "input": [
      "import numpy as np\n",
      "\n",
      "# Random instance with 2 values\n",
      "x = np.array([1.0, 2.0])\n",
      "y = NeuralNetwork.Predict(nn, x)\n",
      "\n",
      "# intermediate results are available\n",
      "# y[0] -> input result, y[1] -> hidden result, y[2] -> output result\n",
      "print(y)"
     ],
     "language": "python",
     "metadata": {},
     "outputs": [
      {
       "output_type": "stream",
       "stream": "stdout",
       "text": [
        "[array([ 1.,  2.]), array([ 0.10180558,  0.1623241 ,  0.50940006]), array([ 0.6442078])]\n"
       ]
      }
     ],
     "prompt_number": 2
    },
    {
     "cell_type": "code",
     "collapsed": false,
     "input": [
      "z = np.arange(-8, 8, 0.1)\n",
      "g = NeuralNetwork.Sigmoid(z)\n",
      "\n",
      "%matplotlib inline\n",
      "import matplotlib.pyplot as plt\n",
      "\n",
      "plt.figure()\n",
      "plt.plot(z, g, 'b-', label='g(z)')\n",
      "plt.legend(loc='upper left')\n",
      "plt.xlabel('Input [z]')\n",
      "plt.ylabel('Output [g]')\n",
      "plt.title('Logistic sigmoid activation function')\n",
      "plt.show()"
     ],
     "language": "python",
     "metadata": {},
     "outputs": [
      {
       "metadata": {},
       "output_type": "display_data",
       "png": "[encoded data removed]",
       "text": [
        "<matplotlib.figure.Figure at 0x7f7f16ba3610>"
       ]
      }
     ],
     "prompt_number": 3
    },
    {
     "cell_type": "markdown",
     "metadata": {},
     "source": [
      "## Training\n",
      "\n",
      "Training a neural network essentially means fitting its parameters to a set of example data considering an objective function, aka cost function. This process is also known as supervised learning. It is usually implemented as an iterative procedure.\n",
      "\n",
      "### Cost Function\n",
      "\n",
      "The cost function somehow encodes the objective or goal that should be attained with the network. It is usually defined as a classification or a regression evaluation function. However, the actual form of the cost function is effectively the same, which is an error or fitting function.\n",
      "\n",
      "The cost function $J$ quantifies the amount of squared error (or misfitting) that the network displays with respect to a set of data. Thus, in order to achieve a successfully working model, this cost function must be minimised with an adequate set of parameter values. To do so, several solutions are valid as long as this cost function be a convex function (i.e., a bowl-like shape). A well known example of such is the quadratic function, which trains the neural network considering a minimum squared error criterion over the whole dataset of training examples:\n",
      "\n",
      "$$J(\\theta, x) = \\frac{1}{M} \\sum_{m=1}^M \\sum_{k=1}^K \\left(Error_k^{(m)}\\right)^2 = \\frac{1}{M} \\sum_{m=1}^M \\sum_{k=1}^K \\left(t_k^{(m)}-y_k^{(m)}\\right)^2$$\n",
      "\n",
      "Note that the term $t$ in the cost function represents the target value of the network (i.e., the ideal/desired network output) for a given input data value $x$. Now that the cost function can be expressed, a convex optimisation procedure (e.g., a gradient-based method) must be conducted in order to minimise its value. Note that this is essentially a least-squares regression.\n",
      "\n",
      "### Regularisation\n",
      "\n",
      "The mean squared-error cost function described above does not incorporate any knowledge or constraint about the characteristics of the parameters being adjusted through the optimisation training strategy. This may develop into a generalisation problem because the space of solutions is large and some of these solutions may turn the model unstable with new unseen data. Therefore, there is the need to smooth the performance of the model over a wide range of input data.\n",
      "\n",
      "Neural networks usually generalise well as long as the weights are kept small. Thus, the Tikhonov regularisation process, aka ridge regression, is introduced as a means to control complexity of the model in favour of its increased general performance. This regularisation approach favours small weight values (it is a cost over large weight values):\n",
      "\n",
      "$$R(\\theta) = \\frac{\\lambda}{2 M} \\sum_{\\forall \\theta \\notin bias} \\theta^2$$\n",
      "\n",
      "There is a typical trade-off in Machine Learning, known as the bias-variance trade-off, which has a direct relationship with the complexity of the model, the nature of the data and the amount of available training data to adjust it. This ability of the model to learn more or less complex scenarios raises an issue with respect to its fitting: if the data is simple to explain, a complex model is said to overfit the data, causing its overall performance to drop (high variance model). Similarly, if complex data is tackled with a simple model, such model is said to underfit the data, also causing its overall performance to drop (high bias model). As it is usual in engineering, a compromise must be reached with an adequate \u03bb\\lambda\u03bb value.\n",
      "\n",
      "### Parameter Initialisation\n",
      "\n",
      "The initial weights of the thetas assigned by the training process are critical with respect to the success of the learning strategy. They determine the starting point of the optimisation procedure, and depending on their value, the adjusted parameter values may end up in different places if the cost function has multiple (local) minima.\n",
      "\n",
      "The parameter initialisation process is based on a uniform distribution between two small numbers that take into account the amount of input and output units of the adjacent layers:\n",
      "\n",
      "$$\\theta_{init} = U[-\\sigma, +\\sigma]\\ \\ where\\ \\ \\sigma = \\frac{\\sqrt{6}}{\\sqrt{in + out}}$$\n",
      "\n",
      "In order to ensure a proper learning procedure, the weights of the parameters need to be randomly assigned in order to prevent any symmetry in the topology of the network model (that would be likely to end in convergence problems).\n",
      "\n",
      "### Gradient Descent\n",
      "\n",
      "Given the convex shape of the cost function (which usually also includes the regularisation), the minimisation objective boils down to finding the extremum of this function using its derivative in the continuos space of the weights. To this end you may use the analytic form of the derivative of the cost function (a nightmare), a numerical finite difference, or automatic differentiation.\n",
      "\n",
      "Gradient descent is a first-order optimisation algorithm, complete but non-optimal. It first starts with some arbitrarily chosen parameters and computes the derivative of the cost function with respect to each of them $\\frac{\\partial J(\\theta,x)}{\\partial \\theta}$. The model parameters are then updated by moving them some distance (determined by the so called learning rate $\\eta$) from the former initial point in the direction of the steepest descent, i.e., along the negative of the gradient. If $\\eta$ is set too small, though, convergence is needlessly slow, whereas if it is too large, the update correction process may overshoot and even diverge.\n",
      "\n",
      "$$\\theta^{t+1} \\leftarrow \\theta^t - \\eta \\frac{\\partial^t J(\\theta,x)}{\\partial \\theta} $$\n",
      "\n",
      "These steps are iterated in a loop until some stopping criterion is met, e.g., a determined number of epochs (i.e., the single presentation of all patterns in the training example set) is reached. One last remark should be made about the amount of examples $M$ used for learning. If the training procedure considers several instances at once per cost computation and parameter update, i.e., $M \\gg 1$, the approach is called batch learning. Batch learning is slow because each cost computation accounts for all the available training instances. In contrast, it is usual to consider only one training instance at a time, i.e., $M=1$, in order to speed up the iterative learning process. This procedure is called online learning. Online learning steps are faster to compute, but this single-instance approximation of the cost function makes it a little inaccurate around the optimum. However, online learning is very convenient in most cases."
     ]
    },
    {
     "cell_type": "code",
     "collapsed": false,
     "input": [
      "# Load Iris dataset, 4 input, 1 output\n",
      "from sklearn import datasets as dset\n",
      "\n",
      "iris = dset.load_iris()\n",
      "\n",
      "nn = NeuralNetwork.Multilayer([4,4,3])\n",
      "# Target needs to be divided by 3 because of the sigmoid,\n",
      "# regularisation parameter of 0.2\n",
      "tcost = NeuralNetwork.Cost(nn, iris.data, iris.target/2.0, 0.2)\n",
      "\n",
      "# Cost value for an untrained network\n",
      "print(\"J(ini) = \" + str(tcost))\n",
      "\n",
      "# Train with numerical gradient, 20 rounds\n",
      "# learning rate is 0.1\n",
      "NeuralNetwork.NumGradDesc(nn, iris.data, iris.target/2.0, 0.2, 20, 0.1)"
     ],
     "language": "python",
     "metadata": {},
     "outputs": [
      {
       "output_type": "stream",
       "stream": "stdout",
       "text": [
        "J(ini) = 0.624640084707\n",
        "J(0) = 0.603004234074"
       ]
      },
      {
       "output_type": "stream",
       "stream": "stdout",
       "text": [
        "\n",
        "J(1) = 0.579925022866"
       ]
      },
      {
       "output_type": "stream",
       "stream": "stdout",
       "text": [
        "\n",
        "J(2) = 0.555662679625"
       ]
      },
      {
       "output_type": "stream",
       "stream": "stdout",
       "text": [
        "\n",
        "J(3) = 0.535765647231"
       ]
      },
      {
       "output_type": "stream",
       "stream": "stdout",
       "text": [
        "\n",
        "J(4) = 0.524090236076"
       ]
      },
      {
       "output_type": "stream",
       "stream": "stdout",
       "text": [
        "\n",
        "J(5) = 0.517668694861"
       ]
      },
      {
       "output_type": "stream",
       "stream": "stdout",
       "text": [
        "\n",
        "J(6) = 0.51373081438"
       ]
      },
      {
       "output_type": "stream",
       "stream": "stdout",
       "text": [
        "\n",
        "J(7) = 0.511064168044"
       ]
      },
      {
       "output_type": "stream",
       "stream": "stdout",
       "text": [
        "\n",
        "J(8) = 0.509136273119"
       ]
      },
      {
       "output_type": "stream",
       "stream": "stdout",
       "text": [
        "\n",
        "J(9) = 0.507681570517"
       ]
      },
      {
       "output_type": "stream",
       "stream": "stdout",
       "text": [
        "\n",
        "J(10) = 0.506551151644"
       ]
      },
      {
       "output_type": "stream",
       "stream": "stdout",
       "text": [
        "\n",
        "J(11) = 0.505653595852"
       ]
      },
      {
       "output_type": "stream",
       "stream": "stdout",
       "text": [
        "\n",
        "J(12) = 0.504928870116"
       ]
      },
      {
       "output_type": "stream",
       "stream": "stdout",
       "text": [
        "\n",
        "J(13) = 0.504335551052"
       ]
      },
      {
       "output_type": "stream",
       "stream": "stdout",
       "text": [
        "\n",
        "J(14) = 0.503843989412"
       ]
      },
      {
       "output_type": "stream",
       "stream": "stdout",
       "text": [
        "\n",
        "J(15) = 0.503432372632"
       ]
      },
      {
       "output_type": "stream",
       "stream": "stdout",
       "text": [
        "\n",
        "J(16) = 0.50308431372"
       ]
      },
      {
       "output_type": "stream",
       "stream": "stdout",
       "text": [
        "\n",
        "J(17) = 0.502787298845"
       ]
      },
      {
       "output_type": "stream",
       "stream": "stdout",
       "text": [
        "\n",
        "J(18) = 0.502531646179"
       ]
      },
      {
       "output_type": "stream",
       "stream": "stdout",
       "text": [
        "\n",
        "J(19) = 0.502309784125"
       ]
      },
      {
       "output_type": "stream",
       "stream": "stdout",
       "text": [
        "\n",
        "Elapsed time = 3.1147840023 seconds\n"
       ]
      }
     ],
     "prompt_number": 4
    },
    {
     "cell_type": "markdown",
     "metadata": {},
     "source": [
      "### Backpropagation\n",
      "\n",
      "The backpropagation algorithm estimates the error for each neuron unit so as to effectively deploy the gradient descent optimisation procedure. It is a popular algorithm, conceptually simple, computationally efficient, and it often works. In order to conduct the estimation of the neuron-wise errors, it first propagates the training data through the network, it then computes the error with the predictions and the target values, and it finally backpropagates the error from the output to the input, generally speaking, from a given layer $(n)$ to the immediately former one $(n-1)$:\n",
      "\n",
      "$$Error^{(n-1)} = Error^{(n)} \\; \\theta^{(n)}$$\n",
      "\n",
      "Note that the bias neurons don't backpropagate, they are not connected to the former layer.\n",
      "\n",
      "Finally, the gradient is computed so that the weights may be updated. Each weight links an input unit $I$ to an output unit $O$, which also provides the error feedback. The general formula that is derived is shown as folows:\n",
      "\n",
      "$$\\theta^{(t+1)} \\leftarrow \\theta^{(t)} + \\eta \\; I \\; Error \\; O \\; (1 - O)$$\n",
      "\n",
      "From a computational complexity perspective, Backpropagation is much more effective than the numerical gradient applied above because it computes the errors for all the weights in 2 network traversals, whereas numerical gradient needs to compute 2 traversals per parameter. In addition, it also converges much faster."
     ]
    },
    {
     "cell_type": "code",
     "collapsed": false,
     "input": [
      "# Iris example with Backprop\n",
      "\n",
      "nn = NeuralNetwork.Multilayer([4,4,3])\n",
      "# Target needs to be divided by 2 because of the sigmoid, values 0, 0.5, 1,\n",
      "# regularisation parameter of 0.2\n",
      "tcost = NeuralNetwork.Cost(nn, iris.data, iris.target/2.0, 0.2)\n",
      "\n",
      "# Cost value for an untrained network\n",
      "print(\"J(ini) = \" + str(tcost))\n",
      "\n",
      "# Train with numerical gradient, 20 rounds\n",
      "# learning rate is 0.1\n",
      "NeuralNetwork.Backprop(nn, iris.data, iris.target/2.0, 0.2, 20, 0.1)"
     ],
     "language": "python",
     "metadata": {},
     "outputs": [
      {
       "output_type": "stream",
       "stream": "stdout",
       "text": [
        "J(ini) = 0.612099418133\n",
        "J(0) = 0.565994381154\n",
        "J(1) = 0.510986180551"
       ]
      },
      {
       "output_type": "stream",
       "stream": "stdout",
       "text": [
        "\n",
        "J(2) = 0.396402383484\n",
        "J(3) = 0.293576755578"
       ]
      },
      {
       "output_type": "stream",
       "stream": "stdout",
       "text": [
        "\n",
        "J(4) = 0.231917422483\n",
        "J(5) = 0.199241812846"
       ]
      },
      {
       "output_type": "stream",
       "stream": "stdout",
       "text": [
        "\n",
        "J(6) = 0.180685443109\n",
        "J(7) = 0.174911780519"
       ]
      },
      {
       "output_type": "stream",
       "stream": "stdout",
       "text": [
        "\n",
        "J(8) = 0.171087470744\n",
        "J(9) = 0.16820095705"
       ]
      },
      {
       "output_type": "stream",
       "stream": "stdout",
       "text": [
        "\n",
        "J(10) = 0.167373396974\n",
        "J(11) = 0.168122359653"
       ]
      },
      {
       "output_type": "stream",
       "stream": "stdout",
       "text": [
        "\n",
        "J(12) = 0.169524400053\n",
        "J(13) = 0.170660330537"
       ]
      },
      {
       "output_type": "stream",
       "stream": "stdout",
       "text": [
        "\n",
        "J(14) = 0.171614633694\n",
        "J(15) = 0.172427977614"
       ]
      },
      {
       "output_type": "stream",
       "stream": "stdout",
       "text": [
        "\n",
        "J(16) = 0.173099025628\n",
        "J(17) = 0.173620810448"
       ]
      },
      {
       "output_type": "stream",
       "stream": "stdout",
       "text": [
        "\n",
        "J(18) = 0.173974040182\n",
        "J(19) = 0.174134023616"
       ]
      },
      {
       "output_type": "stream",
       "stream": "stdout",
       "text": [
        "\n",
        "Elapsed time = 0.843034982681 seconds\n"
       ]
      }
     ],
     "prompt_number": 5
    },
    {
     "cell_type": "markdown",
     "metadata": {},
     "source": [
      "### Practical Techniques\n",
      "\n",
      "The convergence of Backpropagation learning can sometimes be tricky. Designing and training a MLP using Backprop requires making choices such as the number and type of nodes, layers, learning rates, training and test sets, etc, and many undesirable behaviours can be avoided with practical techniques.\n",
      "\n",
      "#### Instance Shuffling"
     ]
    },
    {
     "cell_type": "code",
     "collapsed": false,
     "input": [
      "from sklearn.utils import shuffle\n",
      "import copy\n",
      "\n",
      "idat, itar = iris.data, iris.target/2.0\n",
      "\n",
      "# both networks will start learning with the same weight set\n",
      "nn = NeuralNetwork.Multilayer([4,4,3])\n",
      "nn2 = copy.deepcopy(nn)\n",
      "\n",
      "print(\"Network 1 (instances sequentially ordered by class)\")\n",
      "NeuralNetwork.Backprop(nn, idat, itar, 0.2, 20, 0.1)\n",
      "\n",
      "print(\"\")\n",
      "\n",
      "# shuffle instances\n",
      "idat, itar = shuffle(idat, itar)\n",
      "\n",
      "print(\"Network 2 (shuffled instances)\")\n",
      "NeuralNetwork.Backprop(nn2, idat, itar, 0.2, 20, 0.1)"
     ],
     "language": "python",
     "metadata": {},
     "outputs": [
      {
       "output_type": "stream",
       "stream": "stdout",
       "text": [
        "Network 1 (instances sequentially ordered by class)\n",
        "J(0) = 0.621321750106"
       ]
      },
      {
       "output_type": "stream",
       "stream": "stdout",
       "text": [
        "\n",
        "J(1) = 0.587913543853"
       ]
      },
      {
       "output_type": "stream",
       "stream": "stdout",
       "text": [
        "\n",
        "J(2) = 0.463654122497"
       ]
      },
      {
       "output_type": "stream",
       "stream": "stdout",
       "text": [
        "\n",
        "J(3) = 0.328476364559\n",
        "J(4) = 0.246931516909"
       ]
      },
      {
       "output_type": "stream",
       "stream": "stdout",
       "text": [
        "\n",
        "J(5) = 0.206768733538\n",
        "J(6) = 0.18740759448"
       ]
      },
      {
       "output_type": "stream",
       "stream": "stdout",
       "text": [
        "\n",
        "J(7) = 0.179427200282\n",
        "J(8) = 0.184798691841"
       ]
      },
      {
       "output_type": "stream",
       "stream": "stdout",
       "text": [
        "\n",
        "J(9) = 0.185598621558\n",
        "J(10) = 0.184121367158"
       ]
      },
      {
       "output_type": "stream",
       "stream": "stdout",
       "text": [
        "\n",
        "J(11) = 0.182241429435\n",
        "J(12) = 0.180566162308"
       ]
      },
      {
       "output_type": "stream",
       "stream": "stdout",
       "text": [
        "\n",
        "J(13) = 0.179121426668\n",
        "J(14) = 0.177861132071"
       ]
      },
      {
       "output_type": "stream",
       "stream": "stdout",
       "text": [
        "\n",
        "J(15) = 0.176719200868\n",
        "J(16) = 0.175637280254"
       ]
      },
      {
       "output_type": "stream",
       "stream": "stdout",
       "text": [
        "\n",
        "J(17) = 0.174570139245\n",
        "J(18) = 0.173489598545"
       ]
      },
      {
       "output_type": "stream",
       "stream": "stdout",
       "text": [
        "\n",
        "J(19) = 0.17237761315\n",
        "Elapsed time = 0.916344881058 seconds\n",
        "\n",
        "Network 2 (shuffled instances)\n",
        "J(0) = 0.386832989653"
       ]
      },
      {
       "output_type": "stream",
       "stream": "stdout",
       "text": [
        "\n",
        "J(1) = 0.253446172204\n",
        "J(2) = 0.17593457603"
       ]
      },
      {
       "output_type": "stream",
       "stream": "stdout",
       "text": [
        "\n",
        "J(3) = 0.13437980147\n",
        "J(4) = 0.110683243349"
       ]
      },
      {
       "output_type": "stream",
       "stream": "stdout",
       "text": [
        "\n",
        "J(5) = 0.0976614577619\n",
        "J(6) = 0.0914164000755"
       ]
      },
      {
       "output_type": "stream",
       "stream": "stdout",
       "text": [
        "\n",
        "J(7) = 0.0891141123506\n",
        "J(8) = 0.088701359796"
       ]
      },
      {
       "output_type": "stream",
       "stream": "stdout",
       "text": [
        "\n",
        "J(9) = 0.0879097326682\n",
        "J(10) = 0.0745110096887"
       ]
      },
      {
       "output_type": "stream",
       "stream": "stdout",
       "text": [
        "\n",
        "J(11) = 0.064894075676\n",
        "J(12) = 0.0600249284325"
       ]
      },
      {
       "output_type": "stream",
       "stream": "stdout",
       "text": [
        "\n",
        "J(13) = 0.055882049192\n",
        "J(14) = 0.0524687728982"
       ]
      },
      {
       "output_type": "stream",
       "stream": "stdout",
       "text": [
        "\n",
        "J(15) = 0.0494789388565\n",
        "J(16) = 0.0468512301668"
       ]
      },
      {
       "output_type": "stream",
       "stream": "stdout",
       "text": [
        "\n",
        "J(17) = 0.0445547667453\n",
        "J(18) = 0.0425300365226"
       ]
      },
      {
       "output_type": "stream",
       "stream": "stdout",
       "text": [
        "\n",
        "J(19) = 0.0407112076363\n",
        "Elapsed time = 0.838934183121 seconds\n"
       ]
      }
     ],
     "prompt_number": 19
    },
    {
     "cell_type": "markdown",
     "metadata": {},
     "source": [
      "Notes:\n",
      "\n",
      "The success of Artificial Intelligence and Machine Learning applications is plausibly conceived as a matter of controlling several key variables and following a series of \u201cgood practices\u201d. There are some works in the literature that identify the bits and pieces to be taken into account when designing a successful model. Some of these are described as follows:\n",
      "\n",
      "    Focus on model generalisation: keep a separate self-validation set of data (not used to train the model) to test and estimate the actual performance of the model.\n",
      "    Incorporate as much knowledge as possible. Expertise is a key indicator of success. Data driven models don\u2019t do magic, the more information that is available, the greater the performance of the model.\n",
      "    Feature Engineering is of utmost importance. This relates to the former point: the more useful information that can be extracted from the input data, the better performance can be expected. Salient indicators are keys to success. This may lead to selecting only the most informative features (mutual information, chi-square\u2026), or to change the feature space that is used to represent the instance data (Principal Component Analysis\u2026). And always standardise your data and exclude outliers.\n",
      "    Get more data if the model is not good enough. Related to \u201cthe curse of dimensionality\u201d principle: if good data is lacking, no successful model can be obtained. There must be a coherent relation between the parameters of the model (i.e., its complexity) and the amount of available data to train them.\n",
      "    Ensemble models, integrate criteria. Bearing in mind that the optimum model structure is not known in advance, one of the most reasonable approaches to obtain a fairly good guess is to apply different models (with different learning features) to the same problem and combine/weight their outputs. Related techniques to this are also known as \u201cboosting\u201d.\n",
      "\n",
      "The following sections delve into some of these topics with some practical strategies.\n",
      "\n",
      "Target Values\n",
      "\n",
      "When designing a learning system, it is suitable to take into account the nature of the problem at hand (e.g., whether if it is a classification problem or a regression problem) to determine the number of output units KKK.\n",
      "\n",
      "In the case of classification, KKK should be the amount of different classes, and the target output should be a binary vector. Given an instance, only the output unit that corresponds to the instance class should be set. The decision rule for classification is then driven by the maximum output unit. \n",
      "\n",
      "In the case of a regression problem, KKK should be equal to the number of dependent variables. \n",
      "\n",
      "Hidden Units\n",
      "\n",
      "The number of hidden units determines the expressive power of the network, and thus, the complexity of its transfer function. The more complex a model is, the more complicated data structures it can learn. Nevertheless, this argument cannot be extended ad infinitum because a shortage of training data with respect to the amount of parameters to be learnt may lead the model to overfit the data. That\u2019s why the aforementioned regularisation function is used to avoid this situation.\n",
      "\n",
      "Thus, it is common to have a skew toward suggesting a slightly more complex model than strictly necessary (regularisation will compensate for the extra complexity if necessary). Some heuristic guidelines to guess this optimum number of hidden units indicate an amount somewhat related to the number of input and output units. This is an experimental issue, though. There is no rule of thumb for this. Apply a configuration that works for your problem and you\u2019re done.\n",
      "\n",
      "Deep learning -> many layers, vanishing gradient, need to train differently"
     ]
    }
   ],
   "metadata": {}
  }
 ]
}